{
  "nbformat": 4,
  "nbformat_minor": 0,
  "metadata": {
    "colab": {
      "name": "Project2.ipynb",
      "provenance": [],
      "authorship_tag": "ABX9TyPp3U4+HeJharbiVVXwgdab",
      "include_colab_link": true
    },
    "kernelspec": {
      "name": "python3",
      "display_name": "Python 3"
    }
  },
  "cells": [
    {
      "cell_type": "markdown",
      "metadata": {
        "id": "view-in-github",
        "colab_type": "text"
      },
      "source": [
        "<a href=\"https://colab.research.google.com/github/FrankieGirardot/Info_Retrieval_Project/blob/main/Information%20Retrieval%20and%20Knowledge%20Discovery%20Project%202.ipynb\" target=\"_parent\"><img src=\"https://colab.research.google.com/assets/colab-badge.svg\" alt=\"Open In Colab\"/></a>"
      ]
    },
    {
      "cell_type": "code",
      "metadata": {
        "colab": {
          "base_uri": "https://localhost:8080/"
        },
        "id": "WDETlWsdQacq",
        "outputId": "6d888d07-b433-4c7c-8ad7-b986072384c4"
      },
      "source": [
        "from google.colab import drive\n",
        "drive.mount('/content/drive')"
      ],
      "execution_count": 1,
      "outputs": [
        {
          "output_type": "stream",
          "text": [
            "Mounted at /content/drive\n"
          ],
          "name": "stdout"
        }
      ]
    },
    {
      "cell_type": "code",
      "metadata": {
        "id": "e-N8_UCTQbem"
      },
      "source": [
        "import numpy as np\n",
        "import pandas as pd\n",
        "import sklearn as sk\n",
        "import time\n",
        "import torch\n",
        "import matplotlib as plt\n",
        "\n",
        "from matplotlib import pyplot as pylt\n",
        "from sklearn.feature_extraction.text import CountVectorizer\n",
        "from sklearn.linear_model import LogisticRegression\n",
        "from sklearn.model_selection import train_test_split\n",
        "from sklearn.metrics import roc_auc_score\n",
        "from sklearn.metrics import mean_squared_error\n",
        "from sklearn.metrics import confusion_matrix\n",
        "from sklearn.metrics import plot_confusion_matrix\n",
        "from sklearn.metrics import classification_report\n",
        "from sklearn.feature_extraction.text import TfidfVectorizer\n",
        "\n",
        "from sklearn.kernel_approximation import RBFSampler\n",
        "from sklearn.linear_model import SGDClassifier\n",
        "from sklearn.preprocessing import StandardScaler\n",
        "from sklearn.pipeline import make_pipeline\n",
        "from sklearn.model_selection import train_test_split\n",
        "from sklearn.tree import DecisionTreeClassifier\n",
        "from sklearn import metrics\n",
        "from sklearn.preprocessing import OneHotEncoder\n",
        "from sklearn.neighbors import KNeighborsClassifier\n",
        "from sklearn.pipeline import Pipeline\n",
        "from sklearn.model_selection import KFold"
      ],
      "execution_count": 2,
      "outputs": []
    },
    {
      "cell_type": "code",
      "metadata": {
        "id": "bvQMTjiBQbhD",
        "colab": {
          "base_uri": "https://localhost:8080/"
        },
        "outputId": "7f69aa69-cc31-47d0-b25f-7c94bb3ebefb"
      },
      "source": [
        "#Pull in the dataset\n",
        "rawData = pd.read_excel('/content/drive/MyDrive/Fall 2020/Info Retrieval/ReviewsDataset.xlsx')\n",
        "print(rawData)"
      ],
      "execution_count": 3,
      "outputs": [
        {
          "output_type": "stream",
          "text": [
            "                       id  ... reviews.rating\n",
            "0    AWFUWc8THh53nbDRF6YO  ...              4\n",
            "1    AWFUWc8THh53nbDRF6YO  ...              4\n",
            "2    AWFUWc8THh53nbDRF6YO  ...              4\n",
            "3    AWFUWc8THh53nbDRF6YO  ...              4\n",
            "4    AWFUWc8THh53nbDRF6YO  ...              4\n",
            "..                    ...  ...            ...\n",
            "988  AWFUWc8THh53nbDRF6YO  ...              2\n",
            "989  AWFUWc8THh53nbDRF6YO  ...              2\n",
            "990  AWFUWc8THh53nbDRF6YO  ...              2\n",
            "991  AWFUWc8THh53nbDRF6YO  ...              2\n",
            "992  AWFUWc8THh53nbDRF6YO  ...              2\n",
            "\n",
            "[993 rows x 12 columns]\n"
          ],
          "name": "stdout"
        }
      ]
    },
    {
      "cell_type": "code",
      "metadata": {
        "id": "IwlFFzToRRAU"
      },
      "source": [
        "#This is a textmining project so only keep the attributes that are text and the labels of course\n",
        "data = rawData[['reviews.text']] #, 'reviews.title'\n",
        "labels = rawData[['reviews.rating']]\n"
      ],
      "execution_count": 4,
      "outputs": []
    },
    {
      "cell_type": "code",
      "metadata": {
        "id": "qHQU53yo6NIe"
      },
      "source": [
        "#We are going to create a second criteria of predicting positive vs negative as opposed to predicting\n",
        "#the number of stars, due to the large number of 4 & 5 stars we are considering 3 star reviews as negative: \n",
        "#0, negative\n",
        "#1, positive\n",
        "labelDictionary = {1 : 0, 2 : 0, 3 : 0, 4 : 1, 5 : 1}\n",
        "binaryData = rawData.replace({'reviews.rating': labelDictionary})\n"
      ],
      "execution_count": 5,
      "outputs": []
    },
    {
      "cell_type": "code",
      "metadata": {
        "id": "3aVaz55szx-7"
      },
      "source": [
        "#Split into Train and test datasets\n",
        "x_train, x_test, y_train, y_test = train_test_split(data['reviews.text'], labels['reviews.rating'], test_size=0.15 )\n",
        "\n",
        "x_train_binary, x_test_binary, y_train_binary, y_test_binary = train_test_split(data['reviews.text'], binaryData['reviews.rating'], test_size=0.15 )\n"
      ],
      "execution_count": 6,
      "outputs": []
    },
    {
      "cell_type": "code",
      "metadata": {
        "id": "-4bUqR920cMc"
      },
      "source": [
        "#Bag-of-words to convert text into numerical feature vectors\n",
        "vect = CountVectorizer().fit(x_train)\n",
        "vectBinary = CountVectorizer().fit(x_train_binary)\n",
        "\n",
        "#transform documents in x_train to document term matrix\n",
        "x_train_vectorized = vect.transform(x_train)\n",
        "x_train_vectorized_binary = vectBinary.transform(x_train_binary)"
      ],
      "execution_count": 7,
      "outputs": []
    },
    {
      "cell_type": "code",
      "metadata": {
        "colab": {
          "base_uri": "https://localhost:8080/"
        },
        "id": "gxmTpijS3SPe",
        "outputId": "535e7d1e-3c41-4bf4-833b-924a713ce3ca"
      },
      "source": [
        "#Create the logistic regression model\n",
        "model = LogisticRegression(multi_class = 'multinomial',max_iter=1000)\n",
        "model.fit(x_train_vectorized, y_train)\n",
        "\n",
        "model_binary = LogisticRegression(max_iter=1000)\n",
        "model_binary.fit(x_train_vectorized_binary, y_train_binary)"
      ],
      "execution_count": 8,
      "outputs": [
        {
          "output_type": "execute_result",
          "data": {
            "text/plain": [
              "LogisticRegression(C=1.0, class_weight=None, dual=False, fit_intercept=True,\n",
              "                   intercept_scaling=1, l1_ratio=None, max_iter=1000,\n",
              "                   multi_class='auto', n_jobs=None, penalty='l2',\n",
              "                   random_state=None, solver='lbfgs', tol=0.0001, verbose=0,\n",
              "                   warm_start=False)"
            ]
          },
          "metadata": {
            "tags": []
          },
          "execution_count": 8
        }
      ]
    },
    {
      "cell_type": "code",
      "metadata": {
        "id": "8ympWwnoB-NO"
      },
      "source": [
        "#Testing purposes of each class\n",
        "validate = rawData[['reviews.text','reviews.rating']]\n",
        "validate_binary = binaryData[['reviews.text','reviews.rating']]\n",
        "\n",
        "five = validate.loc[validate['reviews.rating'] == 5]\n",
        "five_labels = five[['reviews.rating']]\n",
        "\n",
        "four = validate.loc[validate['reviews.rating'] == 4]\n",
        "four_labels = four[['reviews.rating']]\n",
        "\n",
        "three = validate.loc[validate['reviews.rating'] == 3]\n",
        "three_labels = three[['reviews.rating']]\n",
        "\n",
        "two = validate.loc[validate['reviews.rating'] == 2]\n",
        "two_labels = two[['reviews.rating']]\n",
        "\n",
        "one = validate.loc[validate['reviews.rating'] == 1]\n",
        "one_labels = one[['reviews.rating']]\n",
        "\n",
        "pos = validate_binary.loc[validate_binary['reviews.rating'] == 1]\n",
        "pos_labels = pos[['reviews.rating']]\n",
        "\n",
        "neg = validate_binary.loc[validate_binary['reviews.rating'] == 0]\n",
        "neg_labels = neg[['reviews.rating']]"
      ],
      "execution_count": 10,
      "outputs": []
    },
    {
      "cell_type": "code",
      "metadata": {
        "colab": {
          "base_uri": "https://localhost:8080/"
        },
        "id": "nMYuSeXX3ZY-",
        "outputId": "da1e0726-01e6-4212-e326-7d9fedaac993"
      },
      "source": [
        "#Predictions\n",
        "print(model.score(vect.transform(five['reviews.text']),five_labels))\n",
        "print(model.score(vect.transform(four['reviews.text']),four_labels))\n",
        "print(model.score(vect.transform(three['reviews.text']),three_labels))\n",
        "print(model.score(vect.transform(two['reviews.text']),two_labels))\n",
        "print(model.score(vect.transform(one['reviews.text']),one_labels))\n",
        " \n",
        "print(model_binary.score(vectBinary.transform(pos['reviews.text']),pos_labels))\n",
        "print(model_binary.score(vectBinary.transform(neg['reviews.text']),neg_labels))\n",
        "\n"
      ],
      "execution_count": 11,
      "outputs": [
        {
          "output_type": "stream",
          "text": [
            "0.9883333333333333\n",
            "0.8554216867469879\n",
            "0.8837209302325582\n",
            "0.86\n",
            "0.9411764705882353\n",
            "0.9952885747938751\n",
            "0.9236111111111112\n"
          ],
          "name": "stdout"
        }
      ]
    },
    {
      "cell_type": "code",
      "metadata": {
        "colab": {
          "base_uri": "https://localhost:8080/"
        },
        "id": "MBMKp_jc5gzP",
        "outputId": "1c9a9fc4-1c8e-44f3-d221-6046cf64f5af"
      },
      "source": [
        "print(model.score(vect.transform(x_test),y_test))\n",
        "model_binary.score(vectBinary.transform(x_test_binary),y_test_binary)"
      ],
      "execution_count": 12,
      "outputs": [
        {
          "output_type": "stream",
          "text": [
            "0.6510067114093959\n"
          ],
          "name": "stdout"
        },
        {
          "output_type": "execute_result",
          "data": {
            "text/plain": [
              "0.9261744966442953"
            ]
          },
          "metadata": {
            "tags": []
          },
          "execution_count": 12
        }
      ]
    },
    {
      "cell_type": "code",
      "metadata": {
        "colab": {
          "base_uri": "https://localhost:8080/",
          "height": 296
        },
        "id": "7kZsEX8J5g1d",
        "outputId": "e1ab8f0b-26be-4463-d9a2-32daf5598a78"
      },
      "source": [
        "#Testing purposes of each class\n",
        "plot_confusion_matrix(model, vect.transform(x_test), y_test)#.savefig('MulticlassConfusionMatrix.png') #labels=[1, 2, 3, 4 ,5]"
      ],
      "execution_count": 13,
      "outputs": [
        {
          "output_type": "execute_result",
          "data": {
            "text/plain": [
              "<sklearn.metrics._plot.confusion_matrix.ConfusionMatrixDisplay at 0x7f958a3053c8>"
            ]
          },
          "metadata": {
            "tags": []
          },
          "execution_count": 13
        },
        {
          "output_type": "display_data",
          "data": {
            "image/png": "[encoded data removed]",
            "text/plain": [
              "<Figure size 432x288 with 2 Axes>"
            ]
          },
          "metadata": {
            "tags": [],
            "needs_background": "light"
          }
        }
      ]
    },
    {
      "cell_type": "code",
      "metadata": {
        "colab": {
          "base_uri": "https://localhost:8080/",
          "height": 296
        },
        "id": "VbM49D7M5g3y",
        "outputId": "192525c8-df2f-4958-9b27-a5be07147919"
      },
      "source": [
        "#plot_confusion_matrix(y_test_binary, model_binary.predict(vectBinary.transform(x_test_binary)), labels=[0,1])\n",
        "plot_confusion_matrix(model_binary, vectBinary.transform(x_test_binary), y_test_binary)"
      ],
      "execution_count": 14,
      "outputs": [
        {
          "output_type": "execute_result",
          "data": {
            "text/plain": [
              "<sklearn.metrics._plot.confusion_matrix.ConfusionMatrixDisplay at 0x7f95867b8048>"
            ]
          },
          "metadata": {
            "tags": []
          },
          "execution_count": 14
        },
        {
          "output_type": "display_data",
          "data": {
            "image/png": "[encoded data removed]",
            "text/plain": [
              "<Figure size 432x288 with 2 Axes>"
            ]
          },
          "metadata": {
            "tags": [],
            "needs_background": "light"
          }
        }
      ]
    },
    {
      "cell_type": "code",
      "metadata": {
        "colab": {
          "base_uri": "https://localhost:8080/"
        },
        "id": "g_MEMKMl72Qs",
        "outputId": "3197027b-ef38-44ec-f008-2743c9c6b3a7"
      },
      "source": [
        "tfvect = TfidfVectorizer(min_df = 3, ngram_range = (1,3)).fit(x_train)\n",
        "tfvectBinary = TfidfVectorizer(min_df = 3, ngram_range = (1,2)).fit(x_train_binary)\n",
        "#len(vect.get_feature_names())\n",
        "\n",
        "x_train_vectorizedTF = tfvect.transform(x_train)\n",
        "x_train_vectorized_binaryTF = tfvectBinary.transform(x_train_binary)\n",
        "\n",
        "modelTF = LogisticRegression(multi_class = 'multinomial',max_iter=1000)\n",
        "modelTF.fit(x_train_vectorizedTF, y_train)\n",
        "\n",
        "model_binaryTF = LogisticRegression(max_iter=1000)\n",
        "model_binaryTF.fit(x_train_vectorized_binaryTF, y_train_binary)"
      ],
      "execution_count": 24,
      "outputs": [
        {
          "output_type": "execute_result",
          "data": {
            "text/plain": [
              "LogisticRegression(C=1.0, class_weight=None, dual=False, fit_intercept=True,\n",
              "                   intercept_scaling=1, l1_ratio=None, max_iter=1000,\n",
              "                   multi_class='auto', n_jobs=None, penalty='l2',\n",
              "                   random_state=None, solver='lbfgs', tol=0.0001, verbose=0,\n",
              "                   warm_start=False)"
            ]
          },
          "metadata": {
            "tags": []
          },
          "execution_count": 24
        }
      ]
    },
    {
      "cell_type": "code",
      "metadata": {
        "colab": {
          "base_uri": "https://localhost:8080/"
        },
        "id": "dsJ1cRvn72dJ",
        "outputId": "8026c413-faf0-47b1-9af9-fa74e14d4590"
      },
      "source": [
        "print(modelTF.score(tfvect.transform(five['reviews.text']),five_labels))\n",
        "print(modelTF.score(tfvect.transform(four['reviews.text']),four_labels))\n",
        "print(modelTF.score(tfvect.transform(three['reviews.text']),three_labels))\n",
        "print(modelTF.score(tfvect.transform(two['reviews.text']),two_labels))\n",
        "print(modelTF.score(tfvect.transform(one['reviews.text']),one_labels))\n",
        " \n",
        "print(model_binaryTF.score(tfvectBinary.transform(pos['reviews.text']),pos_labels))\n",
        "print(model_binaryTF.score(tfvectBinary.transform(neg['reviews.text']),neg_labels))"
      ],
      "execution_count": 25,
      "outputs": [
        {
          "output_type": "stream",
          "text": [
            "1.0\n",
            "0.4738955823293173\n",
            "0.0\n",
            "0.12\n",
            "0.17647058823529413\n",
            "0.9988221436984688\n",
            "0.13194444444444445\n"
          ],
          "name": "stdout"
        }
      ]
    },
    {
      "cell_type": "code",
      "metadata": {
        "colab": {
          "base_uri": "https://localhost:8080/"
        },
        "id": "qYx7QIT_72f8",
        "outputId": "f73f8d54-ae8f-41ef-cca0-5e35ec557344"
      },
      "source": [
        "print(modelTF.score(tfvect.transform(x_test),y_test))\n",
        "model_binaryTF.score(tfvectBinary.transform(x_test_binary),y_test_binary)"
      ],
      "execution_count": 26,
      "outputs": [
        {
          "output_type": "stream",
          "text": [
            "0.6510067114093959\n"
          ],
          "name": "stdout"
        },
        {
          "output_type": "execute_result",
          "data": {
            "text/plain": [
              "0.8657718120805369"
            ]
          },
          "metadata": {
            "tags": []
          },
          "execution_count": 26
        }
      ]
    },
    {
      "cell_type": "code",
      "metadata": {
        "colab": {
          "base_uri": "https://localhost:8080/",
          "height": 296
        },
        "id": "Ng04dvxbAI2G",
        "outputId": "056dc478-190d-4a60-82b6-51af59ea46b0"
      },
      "source": [
        "plot_confusion_matrix(modelTF, tfvect.transform(x_test), y_test)"
      ],
      "execution_count": 27,
      "outputs": [
        {
          "output_type": "execute_result",
          "data": {
            "text/plain": [
              "<sklearn.metrics._plot.confusion_matrix.ConfusionMatrixDisplay at 0x7f9585da2da0>"
            ]
          },
          "metadata": {
            "tags": []
          },
          "execution_count": 27
        },
        {
          "output_type": "display_data",
          "data": {
            "image/png": "[encoded data removed]",
            "text/plain": [
              "<Figure size 432x288 with 2 Axes>"
            ]
          },
          "metadata": {
            "tags": [],
            "needs_background": "light"
          }
        }
      ]
    },
    {
      "cell_type": "code",
      "metadata": {
        "colab": {
          "base_uri": "https://localhost:8080/",
          "height": 296
        },
        "id": "Xel0_5FuAI4j",
        "outputId": "75dbee42-8b93-43f7-8640-f16f322ae52f"
      },
      "source": [
        "plot_confusion_matrix(model_binaryTF, tfvectBinary.transform(x_test_binary), y_test_binary)"
      ],
      "execution_count": 28,
      "outputs": [
        {
          "output_type": "execute_result",
          "data": {
            "text/plain": [
              "<sklearn.metrics._plot.confusion_matrix.ConfusionMatrixDisplay at 0x7f9585df3828>"
            ]
          },
          "metadata": {
            "tags": []
          },
          "execution_count": 28
        },
        {
          "output_type": "display_data",
          "data": {
            "image/png": "[encoded data removed]",
            "text/plain": [
              "<Figure size 432x288 with 2 Axes>"
            ]
          },
          "metadata": {
            "tags": [],
            "needs_background": "light"
          }
        }
      ]
    },
    {
      "cell_type": "code",
      "metadata": {
        "colab": {
          "base_uri": "https://localhost:8080/"
        },
        "id": "niZwkdb1Dv97",
        "outputId": "1d158f35-62ae-458a-819f-02cf1e4d0353"
      },
      "source": [
        "mdPred = model.predict(vect.transform(x_test))\n",
        "mdBinaryPred = model_binary.predict(vectBinary.transform(x_test_binary))\n",
        "\n",
        "print(classification_report(y_test,mdPred))\n",
        "print(classification_report(y_test_binary, mdBinaryPred))\n",
        "\n",
        "predTF = modelTF.predict(tfvect.transform(x_test))\n",
        "predTfBinary = model_binaryTF.predict(tfvectBinary.transform(x_test))\n",
        "\n",
        "print(classification_report(y_test, predTF))\n",
        "print(classification_report(y_test_binary, predTfBinary))"
      ],
      "execution_count": 29,
      "outputs": [
        {
          "output_type": "stream",
          "text": [
            "              precision    recall  f1-score   support\n",
            "\n",
            "           1       0.17      0.25      0.20         4\n",
            "           2       1.00      0.22      0.36         9\n",
            "           3       0.00      0.00      0.00         5\n",
            "           4       0.41      0.23      0.30        39\n",
            "           5       0.74      0.92      0.82        92\n",
            "\n",
            "    accuracy                           0.65       149\n",
            "   macro avg       0.46      0.33      0.34       149\n",
            "weighted avg       0.63      0.65      0.61       149\n",
            "\n",
            "              precision    recall  f1-score   support\n",
            "\n",
            "           0       0.75      0.63      0.69        19\n",
            "           1       0.95      0.97      0.96       130\n",
            "\n",
            "    accuracy                           0.93       149\n",
            "   macro avg       0.85      0.80      0.82       149\n",
            "weighted avg       0.92      0.93      0.92       149\n",
            "\n",
            "              precision    recall  f1-score   support\n",
            "\n",
            "           1       0.00      0.00      0.00         4\n",
            "           2       0.00      0.00      0.00         9\n",
            "           3       0.00      0.00      0.00         5\n",
            "           4       0.42      0.13      0.20        39\n",
            "           5       0.67      1.00      0.80        92\n",
            "\n",
            "    accuracy                           0.65       149\n",
            "   macro avg       0.22      0.23      0.20       149\n",
            "weighted avg       0.52      0.65      0.55       149\n",
            "\n",
            "              precision    recall  f1-score   support\n",
            "\n",
            "           0       0.00      0.00      0.00        19\n",
            "           1       0.87      0.98      0.92       130\n",
            "\n",
            "    accuracy                           0.85       149\n",
            "   macro avg       0.43      0.49      0.46       149\n",
            "weighted avg       0.76      0.85      0.80       149\n",
            "\n"
          ],
          "name": "stdout"
        },
        {
          "output_type": "stream",
          "text": [
            "/usr/local/lib/python3.6/dist-packages/sklearn/metrics/_classification.py:1272: UndefinedMetricWarning: Precision and F-score are ill-defined and being set to 0.0 in labels with no predicted samples. Use `zero_division` parameter to control this behavior.\n",
            "  _warn_prf(average, modifier, msg_start, len(result))\n"
          ],
          "name": "stderr"
        }
      ]
    },
    {
      "cell_type": "code",
      "metadata": {
        "colab": {
          "base_uri": "https://localhost:8080/",
          "height": 280
        },
        "id": "dHly6PH1RgBq",
        "outputId": "0cf81eaf-f36b-40f2-bbb8-fdf279368213"
      },
      "source": [
        "y = rawData['reviews.rating']\n",
        "y.value_counts().plot.bar(x='Number of Stars', y='Count')"
      ],
      "execution_count": null,
      "outputs": [
        {
          "output_type": "execute_result",
          "data": {
            "text/plain": [
              "<matplotlib.axes._subplots.AxesSubplot at 0x7f7f7255a160>"
            ]
          },
          "metadata": {
            "tags": []
          },
          "execution_count": 135
        },
        {
          "output_type": "display_data",
          "data": {
            "image/png": "[encoded data removed]",
            "text/plain": [
              "<Figure size 432x288 with 1 Axes>"
            ]
          },
          "metadata": {
            "tags": [],
            "needs_background": "light"
          }
        }
      ]
    },
    {
      "cell_type": "code",
      "metadata": {
        "id": "bEKqywQpRgFi"
      },
      "source": [
        ""
      ],
      "execution_count": null,
      "outputs": []
    },
    {
      "cell_type": "code",
      "metadata": {
        "colab": {
          "base_uri": "https://localhost:8080/",
          "height": 280
        },
        "id": "6yHzxulfRgJi",
        "outputId": "884dff49-eb10-4094-c567-db9c2ab710a7"
      },
      "source": [
        "y = binaryData['reviews.rating']\n",
        "y.value_counts().plot.bar(x='Number of Stars', y='Count')"
      ],
      "execution_count": null,
      "outputs": [
        {
          "output_type": "execute_result",
          "data": {
            "text/plain": [
              "<matplotlib.axes._subplots.AxesSubplot at 0x7f7f739be0b8>"
            ]
          },
          "metadata": {
            "tags": []
          },
          "execution_count": 33
        },
        {
          "output_type": "display_data",
          "data": {
            "image/png": "[encoded data removed]",
            "text/plain": [
              "<Figure size 432x288 with 1 Axes>"
            ]
          },
          "metadata": {
            "tags": [],
            "needs_background": "light"
          }
        }
      ]
    },
    {
      "cell_type": "code",
      "metadata": {
        "colab": {
          "base_uri": "https://localhost:8080/",
          "height": 281
        },
        "id": "49KSfsV5RgMT",
        "outputId": "6f0e9c63-1d4f-4bcb-9d35-1fd5fa9dd57e"
      },
      "source": [
        "dataNumpy = data.to_numpy()\n",
        "\n",
        "lengths = np.zeros((len(dataNumpy),1))\n",
        "for i in range(len(dataNumpy)):\n",
        "    #print(len(dataNumpy[i, 0]))\n",
        "    lengths[i,0] = len(dataNumpy[i, 0])\n",
        "#print(lengths)\n",
        "pylt.hist(lengths) \n",
        "pylt.title(\"histogram\") \n",
        "pylt.show()"
      ],
      "execution_count": null,
      "outputs": [
        {
          "output_type": "display_data",
          "data": {
            "image/png": "[encoded data removed]",
            "text/plain": [
              "<Figure size 432x288 with 1 Axes>"
            ]
          },
          "metadata": {
            "tags": [],
            "needs_background": "light"
          }
        }
      ]
    }
  ]
}